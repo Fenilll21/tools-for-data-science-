{
 "cells": [
  {
   "cell_type": "markdown",
   "metadata": {},
   "source": [
    "**Data Science Tools and Ecosystem**"
   ]
  },
  {
   "cell_type": "markdown",
   "metadata": {},
   "source": [
    "In this notebook, Data Science Tools and Ecosystem are summarized."
   ]
  },
  {
   "cell_type": "markdown",
   "metadata": {},
   "source": [
    "Some of the popular languages that Data Scientists use are:\n",
    "1.  python\n",
    "2. R programming language (R)\n",
    "3. Java\n",
    "4. C++\n",
    "5. Scala\n",
    "6. SQL\n",
    "7. JavaScript\n"
   ]
  },
  {
   "cell_type": "markdown",
   "metadata": {},
   "source": [
    "Some of the commonly used libraries used by Data Scientists include:\n",
    "\n",
    "1.  Numpy\n",
    "2.  Pandas\n",
    "3.  Matplotlib / Seaborn\n",
    "4.  Scikit-learn\n",
    "5.  TensorFlow/Keras (for Machine Learning)\n",
    "6.  NLTK (Natural Language ToolKit - for Natural Language Processing)\n",
    "7.  OpenCV (Computer Vision Library)"
   ]
  },
  {
   "cell_type": "markdown",
   "metadata": {},
   "source": [
    "# Exercise 6 - Data Science Tools Table\n",
    "| Data Science Tools       |\n",
    "| ------------------------ |\n",
    "| Jupyter Notebook         |\n",
    "| VS Code                  |\n",
    "| RStudio                  |\n"
   ]
  },
  {
   "cell_type": "markdown",
   "metadata": {},
   "source": [
    "\n",
    "\n",
    "### Below are a few examples of evaluating arithmetic expressions in Python\n",
    "\n",
    "\n"
   ]
  },
  {
   "cell_type": "code",
   "execution_count": 3,
   "metadata": {},
   "outputs": [
    {
     "data": {
      "text/plain": [
       "17"
      ]
     },
     "execution_count": 3,
     "metadata": {},
     "output_type": "execute_result"
    }
   ],
   "source": [
    "#This a simple arithmetic expression to mutiply then add integers\n",
    "(3*4)+5 "
   ]
  },
  {
   "cell_type": "code",
   "execution_count": 4,
   "metadata": {},
   "outputs": [
    {
     "data": {
      "text/plain": [
       "3.3333333333333335"
      ]
     },
     "execution_count": 4,
     "metadata": {},
     "output_type": "execute_result"
    }
   ],
   "source": [
    "# This will convert 200 minutes to hours by dividing by 60.\n",
    "minutes = 200\n",
    "hours = minutes / 60\n",
    "hours\n"
   ]
  },
  {
   "cell_type": "markdown",
   "metadata": {},
   "source": [
    "\n",
    "\n",
    "## This notebook aims to cover various exercises related to data science concepts and coding examples.\n",
    "\n",
    "---\n",
    "\n",
    "## Objectives:\n",
    "- **List popular languages for Data Science.**\n",
    "- **Explore common libraries used in Data Science.**\n",
    "- **Understand basic arithmetic expressions in Python.**\n",
    "- **Introduce key development environments for Data Science.**\n",
    "- **Demonstrate sharing a notebook on GitHub.**\n"
   ]
  },
  {
   "cell_type": "markdown",
   "metadata": {},
   "source": [
    "##  Author's Name\n",
    "\n",
    "**Author:** Fenil Kalasariya\n"
   ]
  },
  {
   "cell_type": "code",
   "execution_count": null,
   "metadata": {},
   "outputs": [],
   "source": []
  }
 ],
 "metadata": {
  "kernelspec": {
   "display_name": "Python 3",
   "language": "python",
   "name": "python3"
  },
  "language_info": {
   "codemirror_mode": {
    "name": "ipython",
    "version": 3
   },
   "file_extension": ".py",
   "mimetype": "text/x-python",
   "name": "python",
   "nbconvert_exporter": "python",
   "pygments_lexer": "ipython3",
   "version": "3.11.1"
  }
 },
 "nbformat": 4,
 "nbformat_minor": 2
}
